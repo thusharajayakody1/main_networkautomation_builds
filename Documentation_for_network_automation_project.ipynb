{
  "nbformat": 4,
  "nbformat_minor": 0,
  "metadata": {
    "colab": {
      "name": "Documentation_for_network_automation_project.ipynb",
      "provenance": [],
      "collapsed_sections": []
    },
    "kernelspec": {
      "name": "python3",
      "display_name": "Python 3"
    }
  },
  "cells": [
    {
      "cell_type": "code",
      "metadata": {
        "id": "HlAM9IJEC4Ga",
        "colab_type": "code",
        "colab": {}
      },
      "source": [
        "NetCICD or netDevops is a bleeding edge sector of the IT industry today. and is growing exponentially as this is written.\n",
        "Times that the network engineers were not a Developers but a Guy with the the cables and Console are far behind us.\n",
        "this is a small attempt of an undergraduate student to prolong the devops Culture in the networking sector as the time and his Understanding permits.\n",
        "\n",
        "////////////////////////////////////////////////////////////////////////////////////////////////////////////////////////////////////////////////////////////\n",
        "This Documentation is written with the assumption of reader having a considerable networking knowledge and have interacted with \n",
        "network specific os and consoles (Example - Cisco Ios)\n",
        "\n",
        "According to Gitlabs DevOps can be best explained as people working together to build, deliver, and run resilient software.\n",
        "when it comes to networking this doesnot take other shape but delivering console commands via python with dockerized pipelines sounds like a lot of work.\n",
        "but once the initial process is setup. the conservation of the time factor and downtimes could be huge for any company let it be a giant in IT sector or not\n",
        "the applicationd of the softwarte delivery pipelines is huge.\n",
        "\n",
        "the main Goal of this project is to reduce the Network Downtime by using CICD techniques. troubleshoot code in a virtualized production environment.\n",
        "test the network configarations work as they are supposed to before Deploying the Code to the production environment.\n",
        "\\\\\\\\\\\\\\\\\\\\\\\\\\\\\\\\\\\\\\\\\\\\\\\\\\\\\\\\\\\\\\\\\\\\\\\\\\\\\\\\\\\\\\\\\\\\\\\\\\\\\\\\\\\\\\\\\\\\\\\\\\\\\\\\\\\\\\\\\\\\\\\\\\\\\\\\\\\\\\\\\\\\\\\\\\\\\\\\\\\\\\\\\\\\\\\\\\\\\\\\\\\\\\\\\\\\\\\\\\\\\\\\\\\\\\\\\\\\\\\\\\\\\\\\\\\\\\\\\\\\\\\\\\\\\\\\\\\\\\\\\\\\\\\\\\\\\\\\\\\\\\\\\\\\\\\\\n",
        "\n",
        "Initial setups\n",
        "1) GNS3- GNS3 is a software that is popular among the network engineers due to its high capability of vitualization of network componenets.\n",
        "      its ablity to run Unix like systems along with the Docker suppoort makes it one of the best network vitualization tools available\n",
        "      the installation process of the GNS3 GUI along with the GNS3 Virtual machine is documented well on the GNS3 official website.\n",
        "      https://docs.gns3.com/11YYG4NQlPSl31YwvVvBS9RAsOLSYv0Ocy-uG2K8ytIY/index.html\n",
        "\n",
        "      for this project i used a Windows machine running |\tMicrosoft Windows 10 Pro,Version\t10.0.18362 Build 18362\n",
        "      Processor\tIntel(R) Core(TM) i5-7200U CPU @ 2.50GHz, 2701 Mhz, 2 Core(s), 4 Logical Processor(s)\n",
        "      Installed Physical Memory (RAM)\t8.00 GB\n",
        "      its advised to use more than 6.00 GB of physical Memory to run the virtualization tasks of GNS3\n",
        "      Important -- //// hyper-v technologies must be turned off and firewalls and virus guards including windows Defender should be turned off in order\n",
        "      gns3 to function Properly.\n",
        "      this would be used to run our python code against the virtualized environment of the Enterprise network environment.\n",
        "      GNS3 is capable of running Unixlike Docker containers which can ultimately made to understand python code. that can interact with the network devices\n",
        "      via an API. or the good old Reliable SSH.\n",
        "\n",
        "2)Router-os for the virtualization - i reccommend buying cisco ios-v router products that are specially made for the educations purposes under qemu section of \n",
        "                                      gns3 but this comes with a cost of over 200 dollars. so i strongly advise people here to do a through google search on such\n",
        "                                      topics. \n",
        "\n",
        "\n",
        "2) jenkins server - according to the jenkins site its the industry leading open source automation server, Jenkins provides hundreds of plugins to support building,\n",
        "                    deploying and automating any project.at any scale. which is actually true in my opinion. jenkins is highly scalable.highly configurable\n",
        "      official jenkins Documentation can be found here https://jenkins.io/doc/\n",
        "      in this project jenkins will be used as the build tool as well as the deploy tool (python doesnot need a build step per se)\n",
        "      installation of the jenkins server in a Unixlike system is the first step of this initial setup. this guide will walk you through installation of \n",
        "      jenkins in any os (using a debian os is recommended for this project) -https://jenkins.io/doc/book/installing/\n",
        "\n",
        "      i used a an ubuntu 18.04.3 LTS debian image vitualized upon the prior mentioned windows system along with vmware workstation PRO. on which i have\n",
        "      also installed the GNS3 Virtual machine. on this ubuntu vm i installed the jenkins server.\n",
        "\n",
        "\n",
        "\n",
        "\n",
        "3) Deployment server - An Amazon EC2 Instance was used as the deployment server. running an ubuntu debian system. docker was installed on the deployment\n",
        "                        server manually. this is the only prerequisite for the deployment server. which will be discussed further.\n",
        "      Putty was used as the SSHclient to the amazon EC2 instance and solarPutty was used as the SSH/telnet Client of the Virtualized router images.\n",
        "\n",
        "\n",
        "\n",
        "4) Docker images - Docker images with the necessary requirements were created inside the jenkins job to run the python code successfully. but initially\n",
        "                   code was tested in GNS3 before the pipeline through the docker container used by network engineers widely for python implementation\n",
        "                   and ansible implementation. this needs to be pulled and installed in the GNS3 VM as a prerequisite\n",
        "                   docker image network automation GNS3 - https://www.gns3.com/marketplace/appliance/network-automation\n",
        "                   first download the GNS3 Appliance given in the link and install it in the GNS3 GUI. it will pull the docker image automatically once\n",
        "                   imported into a topology. (this will be discussed in the later chapters).\n",
        "\n",
        "5) Cisco Packet tracer - This software is available on https://www.netacad.com/courses/packet-tracer for free once a free account is created on cisco.\n",
        "                   this was used to preplan and execute the cisco I-os commands and simulation of the ios command effects on the topology.\n",
        "                   this tool is highly recommended for the project planning stage.\n",
        "\n",
        "///////// ////////////////////////////////////////////////////////////////////////////////////////////////////////////////////////////////////////////////////////\n",
        "stages -\n",
        "\n",
        "01) project planning stage -\n",
        "                  \n",
        "                  \n",
        "\n",
        "                   Automation of Network configuration updates and mitigation of security threats via dockerized python pipelines is the main goal of this\n",
        "                   project.\n",
        "\n",
        "                   Imagine a production environment that has about 7-10 major routers and switches implementing different technologies at each level of\n",
        "                   acesss, distribution and core layers. Manual configaration of updates in these would cost \n",
        "                   money\n",
        "                   network downtime\n",
        "                   and prone to security risks and severe network errors if configurations go wrong.\n",
        "\n",
        "                   solution - Use devops technologies to automate the configuration process. \n",
        "                              Test the code firstly via constructing the network environment using virtualization (GN3)\n",
        "                              Deploy the code from production repository to the main Enterprise environment.\n",
        "\n",
        "\n",
        "\n",
        "\n"
      ],
      "execution_count": 0,
      "outputs": []
    },
    {
      "cell_type": "code",
      "metadata": {
        "id": "vX380BjVCRVf",
        "colab_type": "code",
        "colab": {}
      },
      "source": [
        ""
      ],
      "execution_count": 0,
      "outputs": []
    },
    {
      "cell_type": "markdown",
      "metadata": {
        "id": "qsorM20SCzfq",
        "colab_type": "text"
      },
      "source": [
        "![alt text](https://drive.google.com/uc?id=1e5G2LQyoWXuh4NgxSCjiRqVmBoD0ur42)"
      ]
    },
    {
      "cell_type": "code",
      "metadata": {
        "id": "ls-MKJBvDHtN",
        "colab_type": "code",
        "colab": {}
      },
      "source": [
        "01) project planning stage (continued) -\n",
        "\n",
        "                    Above topology was used as the main topology of the enterprise network which can be extended via the edge router \n",
        "                    The networking technologies implemented in the above topology\n",
        "\n",
        "                    Vlan configaration \n",
        "                    Vlan trunking\n",
        "                    Trunk port configaration\n",
        "                    VTP server and Vtp modes configaration in switches\n",
        "                    Spanning-tree optimization\n",
        "                    implementation of rapid-pvst\n",
        "                    Rapid-pvst optimization\n",
        "                    root-bridge change \n",
        "                    network traffic control via root bridge optimization\n",
        "                    VTP Prunning\n",
        "                    Ether-Channel (PAgp/LaCP)\n",
        "                    Cisco Discovery protocol\n",
        "\n",
        "                    these Configarations are normally done by a network administrator on a production/Actual network environment.\n",
        "                    Using python  2.7/ 3 / 3+ and support libraries such as paramiko\n",
        "                    these configurations can be done via a python code using an API or SSH.\n",
        "\n",
        "02) Netwoking Environment - \n",
        "\n",
        "                    Due to many reasons these codes should be deployed in a real environment with real routers and switches and other networking\n",
        "                    Equipement will best serve its purpose. since Availability if such resources are not with in my reach this project was done on\n",
        "                    a virtualized environment of router images/ switch images of cisco. with in GNS3 Virtual machine. \n",
        "\n",
        "                    Project resources are as follows\n",
        "\n",
        "                    Router Image - vios-adventerprisek9-m.vmdk.SPA.156-2\n",
        "                    switch Image - vios_l2-adventerprisek9-m.vmdk.SSA.152-4.0.55.E\n",
        "                    network docker - https://www.gns3.com/marketplace/appliance/network-automation \n",
        "                      \n",
        "                    these were used initially. but networks dockers were created for the python code using jenkins build environment hence installation\n",
        "                    only needed for testing purposes of the code.\n",
        "\n",
        "                    Prerequisite - The Unixlike Docker in the topology should be able to access all the network devices in the Topology.\n",
        "\n",
        "                    after the installation of QEMU images in the GNS3 planned topology was recreated in GNS3 as Follows.\n",
        "\n",
        "                    a successfully recreated GNS3 network topology should be something like Follows.\n",
        "\n"
      ],
      "execution_count": 0,
      "outputs": []
    },
    {
      "cell_type": "markdown",
      "metadata": {
        "id": "RYwPjmqyL_ky",
        "colab_type": "text"
      },
      "source": [
        "![alt text](https://drive.google.com/uc?id=1TwTV1b_tDpZ3P0fgiqNCMz63U55yXJW-)"
      ]
    },
    {
      "cell_type": "code",
      "metadata": {
        "id": "rDrQm4HbRBDc",
        "colab_type": "code",
        "colab": {}
      },
      "source": [
        "a successfully installed GNS3 VM Inside VMware workstation pro should be as follows. Ip can change according to Virtual network."
      ],
      "execution_count": 0,
      "outputs": []
    },
    {
      "cell_type": "markdown",
      "metadata": {
        "id": "F4RtHXUaQcRh",
        "colab_type": "text"
      },
      "source": [
        "![alt text](https://drive.google.com/uc?id=1-1GqABk3SQx6-FKAmBHj8yP6gdo6Y8IN)"
      ]
    },
    {
      "cell_type": "code",
      "metadata": {
        "id": "g32E4dJsRhXn",
        "colab_type": "code",
        "colab": {}
      },
      "source": [
        "Prerequisite of ability of Docker container to the network topology can be configured in the router and switch os as follows"
      ],
      "execution_count": 0,
      "outputs": []
    },
    {
      "cell_type": "markdown",
      "metadata": {
        "id": "vb1nIFRFTDSY",
        "colab_type": "text"
      },
      "source": [
        "![alt text](https://drive.google.com/uc?id=13rseGB2sQRQ3aJbST32fFDsW-7wr43dq)"
      ]
    },
    {
      "cell_type": "code",
      "metadata": {
        "id": "6cP4i8e_TmKA",
        "colab_type": "code",
        "colab": {}
      },
      "source": [
        "03) Python Code - Certain network specific Python code was written in order to achieve the configuration of the network devices.\n",
        "\n",
        "                  Support Libraries //////////////\n",
        "\n",
        "                  Napalm - NAPALM (Network Automation and Programmability Abstraction Layer with Multivendor support) is a Python library\n",
        "                  that implements a set of functions to interact with different network device Operating Systems using a unified API.\n",
        "\n",
        "                  official Documentation - https://napalm.readthedocs.io/en/latest/\n",
        "\n",
        "                  Netmiko - Multi-vendor library to simplify Paramiko SSH connections to network devices\n",
        "\n",
        "                  Official Documentation - https://pypi.org/project/netmiko/\n",
        "\n",
        "                  Paramiko - Paramiko is a Python (2.7, 3.4+) implementation of the SSHv2 protocol [1], providing both client and server\n",
        "                  functionality. While it leverages a Python C extension for low level cryptography (Cryptography), Paramiko itself\n",
        "                  is a pure Python interface around SSH networking concepts.\n",
        "\n",
        "                  official Documemtation - http://www.paramiko.org/\n",
        "\n",
        "                  All the Code was tested working inside the Virtualized network environment as well as in CICD server Environment.\n",
        "                  \n",
        "                  Github Link for the code - https://github.com/thusharajayakody1/main_networkautomation_builds\n",
        "\n",
        "04) CICD server - Jenkins is industry standard for this type of Task. The main goal here is to Build, test, And deploy the code with the Developers\n",
        "                  working environment status (dependancies needed for the Code to work Correctly)\n",
        "\n",
        "\n",
        "                  after the Correct installation of Jenkins as described above \n",
        "\n",
        "                  jenkins should be installed with following plugins\n",
        "\n",
        "                  GitHub plugin\n",
        "                  Pipeline \n",
        "                  Pipeline: GitHub Groovy Libraries \n",
        "                  ShiningPanda Plugin\n",
        "                  SSH Credentials Plugin       \t\n",
        "                  SSH plugin \n",
        "                  Pyenv Pipeline\n",
        "\n",
        "                  along with the jenkins default installation plugins. you can install any plugin that might do the same tasks as above\n",
        "\n",
        "                  install Docker on the CICD server \n",
        "\n",
        "                  official documentation - https://docs.docker.com/install/linux/docker-ce/ubuntu/\n",
        "\n",
        "                  install python on the CICD Server\n",
        "\n",
        "                  A useful documentation - http://ubuntuhandbook.org/index.php/2017/07/install-python-3-6-1-in-ubuntu-16-04-lts/\n",
        "\n",
        "                  add the jenkins user to the sudoers and docker group\n",
        "                  \n",
        "                  initialize a pipeline environment and configure jenkins tasks with groovy code /(pipeline syntax)\n",
        "                  jenkinsfile for such a pipelineenvironment is given in the github repository\n",
        "\n",
        "                  https://github.com/thusharajayakody1/main_networkautomation_builds/blob/master/jenkinsfile\n",
        "\n",
        "                  following images should demonstarte how the process is done."
      ],
      "execution_count": 0,
      "outputs": []
    },
    {
      "cell_type": "code",
      "metadata": {
        "id": "HmWV1_61xtGs",
        "colab_type": "code",
        "colab": {}
      },
      "source": [
        "following file shows a properly logged on jenkins home interface"
      ],
      "execution_count": 0,
      "outputs": []
    },
    {
      "cell_type": "markdown",
      "metadata": {
        "id": "DooHgwL7xjyP",
        "colab_type": "text"
      },
      "source": [
        "![alt text](https://drive.google.com/uc?id=1_EJbLl-HWw-mMkb-zSZsT__WLQReNl8N)"
      ]
    },
    {
      "cell_type": "code",
      "metadata": {
        "id": "ZHzUN2oiyRba",
        "colab_type": "code",
        "colab": {}
      },
      "source": [
        "pipeline configaration file can be found in the jenkins url http://localhost:8080/job/pipe-vtpconfigsnet/configure \n",
        "port number can vary according to your installation or run java -jar jenkins.war --httpPort=< your specific port > \n",
        "\n",
        "java is essential for jenkins to run. this is mentioned in the jenkins installation steps\n",
        "official documenation jenkins installation - https://jenkins.io/doc/book/installing/"
      ],
      "execution_count": 0,
      "outputs": []
    },
    {
      "cell_type": "markdown",
      "metadata": {
        "id": "8cUPA1LdyaUp",
        "colab_type": "text"
      },
      "source": [
        "![alt text](https://drive.google.com/uc?id=1pZp7nxl7htfOQh1IaqK3r936oUllR1LZ)"
      ]
    },
    {
      "cell_type": "code",
      "metadata": {
        "id": "UjpV5avNygTc",
        "colab_type": "code",
        "colab": {}
      },
      "source": [
        "if the pipeline is successfully run all the stages are completed. the progress of the pipeline can be found at \n",
        "\n",
        "http://localhost:8080/job/pipe-vtpconfigsnet/ varies according to your installation.\n"
      ],
      "execution_count": 0,
      "outputs": []
    },
    {
      "cell_type": "markdown",
      "metadata": {
        "id": "m842bZO-0vzN",
        "colab_type": "text"
      },
      "source": [
        "![alt text](https://drive.google.com/uc?id=1FBa56u5nyAmhlzNVMWPBPOwiqho4JYFG)"
      ]
    },
    {
      "cell_type": "code",
      "metadata": {
        "id": "488H2WBZ08BW",
        "colab_type": "code",
        "colab": {}
      },
      "source": [
        "pipeline steps - \n",
        "\n",
        "clearing workspace - this clears the jenkins worksapce folder before the start of the build\n",
        "\n",
        "Git checkout - this step will clone the git repository to the jenkins workspace folder\n",
        "\n",
        "Building Python on virtual environment - This step uses the dependacies file on the Git repository cloned along with python installation of \n",
        "                                         present in the local server to create a python virtual environment on which the python file can be \n",
        "                                         tested upon. for the second time. (this was once tested in out virtual env of GNS3).\n",
        "                                         Pyenv plugin or the shinningpanda plugin is used here. either one can be used.\n",
        "\n",
        "Building the Docker image - this step will use the Dockerfiles present in the Git repository that was initially cloned to the workspace folder\n",
        "                            to create the Docker container that helps contain the environment For the deployment server.\n",
        "\n",
        "Pushing image to the Dockerhub - THE Created Docker image will be pushed to Dokerhub via jenkins\n",
        "\n",
        "Prune Docker - this step removes the created Docker images from the CICD server. Or the images will take up the space in the server each time a \n",
        "               a Build is kicked off.\n",
        "\n",
        "Deploying - firstly an SSH agent is contacting the amazonec2 server which is preinstalled with Docker \n",
        "            establish a secure connection and then pull the docker image from Docker hub and its run on the Deployment server\n",
        "\n",
        "            Ideally the deployment server should be the admin machine present in the Topologies which can SSH to the the Routers and Switches\n",
        "            but this is a demonstration and I have no access to a production level environment of such Complexity Currently. so the Deployment  \n",
        "            server is an amazon EC2 instance. But the same concept will work if its run on a Enterprise network. which enables a network CICD \n",
        "            Process. because the test environment GNS3 runs Docker image to test our Python code for the first time.\n",
        "\n",
        "\n",
        "Clear workspace - this Clears the jenkins workspace after pipeline is successful.\n"
      ],
      "execution_count": 0,
      "outputs": []
    },
    {
      "cell_type": "code",
      "metadata": {
        "id": "mwznLMhxBob3",
        "colab_type": "code",
        "colab": {}
      },
      "source": [
        "05) Deployment server - this is where the created Docker image is run. \n",
        "                    Putty can be configured to access amazonec2 console checking out server status.\n",
        "\n",
        "/////////////////////////////////////////////////////////////////////////////////////////////////////////////////////////////////////////////////////////\n",
        "\n",
        "SUMMARY ----------------------------------------------------------------\n",
        "\n",
        "The sourcecode is written with the sole purpose of automating the network configuration process with python and support libraries. and deliver it\n",
        "efficiently and securely to the Enterprise network environment.\n",
        "\n",
        "Author - Thushara.k.jayakody\n",
        "github - https://github.com/thusharajayakody1\n",
        "Dockerhub - https://hub.docker.com/u/thusharajaye\n"
      ],
      "execution_count": 0,
      "outputs": []
    }
  ]
}