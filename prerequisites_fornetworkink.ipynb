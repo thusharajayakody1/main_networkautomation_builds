{
 "nbformat": 4,
 "nbformat_minor": 0,
 "metadata": {
  "colab": {
   "name": "Untitled3.ipynb",
   "provenance": []
  },
  "kernelspec": {
   "name": "python2",
   "display_name": "Python 2"
  },
  "pycharm": {
   "stem_cell": {
    "cell_type": "raw",
    "source": [],
    "metadata": {
     "collapsed": false
    }
   }
  }
 },
 "cells": [
  {
   "cell_type": "code",
   "metadata": {
    "id": "PHmNohmwhzbN",
    "colab_type": "code",
    "colab": {}
   },
   "source": [
    "firstly\n",
    "ubuntu version latest 19.10 currently should be installed inside the Virtual environment of preference. in this case i have used\n",
    "1) Gns3 network simulator version 2.2.3\n",
    "2) Gns3 Virtual machine installed on Vmware workstation pro(latest) # important that gns3 GUI version and Gns3 Virtual machine Version must match\n",
    "3) Cisco virl images/ios 15.0 or later /cisco NX-os or Cisco CSR/CSR900 os installed on gns3. #please use the official GNS3 documentation for this\n",
    "\n",
    "# please refer to official gns3 site documemtation for the installation of Gns3\n",
    "\n",
    "secondly to run paramiko netmiko python scripts on the ubuntu machine thats installed and running install python and ansible first\n",
    "\n",
    "1) python 2.7\n",
    "2) ansible latest version should be installed \n",
    "# to install python 2.7 run following commands on ubuntu linux kernal with admin priviledges\n",
    "\n",
    "please run a NAT node with ip dhcp on Gns3 to get ip connectivity to your topology from the local computer. i will include ios configaration and ubuntu\n",
    "machine configaration on the developer repository under InitialInternetCnnectivity.ipynb in the developer repository\n",
    "\n",
    "sudo apt-get update\n",
    "sudo apt-get install python2.7\n",
    "\n",
    "#to install ansible \n",
    "\n",
    "sudo apt-add-repository ppa:ansible/ansible #press enter when prompted\n",
    "sudo apt update\n",
    "sudo apt install ansible\n",
    "\n",
    "# to show ansible version installed run\n",
    "ansibe --version \n",
    "# configaration of the ansible inventory file and ansible conf file can be found on the dev repository\n",
    "\n",
    "to install netmiko/paramiko\n",
    "apt-get update\n",
    "apt-get install python -y\n",
    "apt-get install build-essential libssl-dev libffi-dev -y\n",
    "apt-get install python pip -y\n",
    "pip install cryptography\n",
    "pip install paramiko or\n",
    "pip install netmiko\n",
    "\n",
    "installing NAPALM\n",
    "\n",
    "# with paramiko or netmiko installed run the command \n",
    "pip install --upgrade pip\n",
    "pip install napalm\n",
    "\n",
    "#added a new line to check in dev branch\n",
    "\n",
    "\n",
    "\n",
    "\n",
    "\n",
    "\n",
    "\n",
    "\n",
    "\n",
    "\n",
    "\n",
    "\n"
   ],
   "execution_count": 0,
   "outputs": []
  },
  {
   "cell_type": "markdown",
   "metadata": {
    "id": "Qiay7oG4h4-n",
    "colab_type": "text"
   },
   "source": [
    "this is the configaration description file for the Ubuntu machine\n",
    "this can be used as a template for making a docker file\n",
    "\n"
   ]
  }
 ]
}